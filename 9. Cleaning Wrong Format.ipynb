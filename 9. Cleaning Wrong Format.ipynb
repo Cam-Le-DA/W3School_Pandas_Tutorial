{
 "cells": [
  {
   "cell_type": "markdown",
   "id": "2b1f4736",
   "metadata": {},
   "source": [
    "### Data of Wrong Format\n",
    "Cells with data of wrong format can make it difficult, or even impossible, to analyze data.\n",
    "\n",
    "To fix it, you have two options: remove the rows, or convert all cells in the columns into the same format."
   ]
  },
  {
   "cell_type": "markdown",
   "id": "37a72535",
   "metadata": {},
   "source": [
    "### Convert Into a Correct Format\n",
    "In our Data Frame, we have two cells with the wrong format. Check out row 22 and 26, the 'Date' column should be a string that represents a date:\n",
    "\n",
    "Let's try to convert all cells in the 'Date' column into dates.\n",
    "\n",
    "Pandas has a to_datetime() method for this:"
   ]
  },
  {
   "cell_type": "code",
   "execution_count": 1,
   "id": "b6128b69",
   "metadata": {},
   "outputs": [
    {
     "name": "stdout",
     "output_type": "stream",
     "text": [
      "    Duration       Date  Pulse  Maxpulse  Calories\n",
      "0         60 2020-12-01    110       130     409.1\n",
      "1         60 2020-12-02    117       145     479.0\n",
      "2         60 2020-12-03    103       135     340.0\n",
      "3         45 2020-12-04    109       175     282.4\n",
      "4         45 2020-12-05    117       148     406.0\n",
      "5         60 2020-12-06    102       127     300.0\n",
      "6         60 2020-12-07    110       136     374.0\n",
      "7         45 2020-12-08    104       134     253.3\n",
      "8         30 2020-12-09    109       133     195.1\n",
      "9         60 2020-12-10     98       124     269.0\n",
      "10        60 2020-12-11    103       147     329.3\n",
      "11        60 2020-12-12    100       120     250.7\n",
      "12        60 2020-12-13    106       128     345.3\n",
      "13        60 2020-12-14    104       132     379.3\n",
      "14        60 2020-12-15     98       123     275.0\n",
      "15        60 2020-12-16     98       120     215.2\n",
      "16        60 2020-12-17    100       120     300.0\n",
      "17        45 2020-12-18     90       112       NaN\n",
      "18        60 2020-12-19    103       123     323.0\n",
      "19        45 2020-12-20     97       125     243.0\n",
      "20        60 2020-12-21    108       131     364.2\n",
      "21        45        NaT    100       119     282.0\n",
      "22        60 2020-12-23    130       101     300.0\n",
      "23        45 2020-12-24    105       132     246.0\n",
      "24        60 2020-12-25    102       126     334.5\n",
      "25        60 2020-12-26    100       120     250.0\n",
      "26        60 2020-12-27     92       118     241.0\n",
      "27        60 2020-12-28    103       132       NaN\n",
      "28        60 2020-12-29    100       132     280.0\n",
      "29        60 2020-12-30    102       129     380.3\n",
      "30        60 2020-12-31     92       115     243.0\n"
     ]
    }
   ],
   "source": [
    "# Convert to date:\n",
    "import pandas as pd\n",
    "df = pd.read_csv('data.csv')\n",
    "df['Date'] = pd.to_datetime(df['Date'])\n",
    "print(df.to_string())"
   ]
  },
  {
   "cell_type": "markdown",
   "id": "2f12314c",
   "metadata": {},
   "source": [
    "As you can see from the result, the date in row 26 was fixed, but the empty date in row 22 got a NaT (Not a Time) value, in other words an empty value. One way to deal with empty values is simply removing the entire row."
   ]
  },
  {
   "cell_type": "markdown",
   "id": "1a2cb6c0",
   "metadata": {},
   "source": [
    "### Removing Rows\n",
    "The result from the converting in the example above gave us a NaT value, which can be handled as a NULL value, and we can remove the row by using the dropna() method."
   ]
  },
  {
   "cell_type": "code",
   "execution_count": 2,
   "id": "8ecd235b",
   "metadata": {},
   "outputs": [
    {
     "name": "stdout",
     "output_type": "stream",
     "text": [
      "    Duration       Date  Pulse  Maxpulse  Calories\n",
      "0         60 2020-12-01    110       130     409.1\n",
      "1         60 2020-12-02    117       145     479.0\n",
      "2         60 2020-12-03    103       135     340.0\n",
      "3         45 2020-12-04    109       175     282.4\n",
      "4         45 2020-12-05    117       148     406.0\n",
      "5         60 2020-12-06    102       127     300.0\n",
      "6         60 2020-12-07    110       136     374.0\n",
      "7         45 2020-12-08    104       134     253.3\n",
      "8         30 2020-12-09    109       133     195.1\n",
      "9         60 2020-12-10     98       124     269.0\n",
      "10        60 2020-12-11    103       147     329.3\n",
      "11        60 2020-12-12    100       120     250.7\n",
      "12        60 2020-12-13    106       128     345.3\n",
      "13        60 2020-12-14    104       132     379.3\n",
      "14        60 2020-12-15     98       123     275.0\n",
      "15        60 2020-12-16     98       120     215.2\n",
      "16        60 2020-12-17    100       120     300.0\n",
      "17        45 2020-12-18     90       112       NaN\n",
      "18        60 2020-12-19    103       123     323.0\n",
      "19        45 2020-12-20     97       125     243.0\n",
      "20        60 2020-12-21    108       131     364.2\n",
      "22        60 2020-12-23    130       101     300.0\n",
      "23        45 2020-12-24    105       132     246.0\n",
      "24        60 2020-12-25    102       126     334.5\n",
      "25        60 2020-12-26    100       120     250.0\n",
      "26        60 2020-12-27     92       118     241.0\n",
      "27        60 2020-12-28    103       132       NaN\n",
      "28        60 2020-12-29    100       132     280.0\n",
      "29        60 2020-12-30    102       129     380.3\n",
      "30        60 2020-12-31     92       115     243.0\n"
     ]
    }
   ],
   "source": [
    "# Remove rows with a NULL value in the \"Date\" column:\n",
    "df.dropna(subset = ['Date'], inplace = True)\n",
    "print(df.to_string())"
   ]
  },
  {
   "cell_type": "code",
   "execution_count": null,
   "id": "0708b712",
   "metadata": {},
   "outputs": [],
   "source": []
  }
 ],
 "metadata": {
  "kernelspec": {
   "display_name": "Python 3 (ipykernel)",
   "language": "python",
   "name": "python3"
  },
  "language_info": {
   "codemirror_mode": {
    "name": "ipython",
    "version": 3
   },
   "file_extension": ".py",
   "mimetype": "text/x-python",
   "name": "python",
   "nbconvert_exporter": "python",
   "pygments_lexer": "ipython3",
   "version": "3.9.12"
  }
 },
 "nbformat": 4,
 "nbformat_minor": 5
}
