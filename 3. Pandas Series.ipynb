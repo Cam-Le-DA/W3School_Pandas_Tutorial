{
 "cells": [
  {
   "cell_type": "markdown",
   "id": "a857437f",
   "metadata": {},
   "source": [
    "### What is a Series?\n",
    "A Pandas Series is like a column in a table.\n",
    "\n",
    "It is a one-dimensional array holding data of any type."
   ]
  },
  {
   "cell_type": "code",
   "execution_count": 2,
   "id": "7792b33c",
   "metadata": {},
   "outputs": [
    {
     "name": "stdout",
     "output_type": "stream",
     "text": [
      "0    1\n",
      "1    7\n",
      "2    2\n",
      "dtype: int64\n"
     ]
    }
   ],
   "source": [
    "# Create a simple Pandas Series from a list:\n",
    "import pandas as pd\n",
    "\n",
    "x = [1,7,2]\n",
    "myvar = pd.Series(x)\n",
    "print(myvar)"
   ]
  },
  {
   "cell_type": "markdown",
   "id": "6cc1c304",
   "metadata": {},
   "source": [
    "### Labels\n",
    "If nothing else is specified, the values are labeled with their index number. First value has index 0, second value has index 1 etc.\n",
    "\n",
    "This label can be used to access a specified value."
   ]
  },
  {
   "cell_type": "code",
   "execution_count": 3,
   "id": "81e4432f",
   "metadata": {},
   "outputs": [
    {
     "name": "stdout",
     "output_type": "stream",
     "text": [
      "1\n"
     ]
    }
   ],
   "source": [
    "# Return the first value of the Series:\n",
    "print(myvar[0])"
   ]
  },
  {
   "cell_type": "markdown",
   "id": "2e46dc65",
   "metadata": {},
   "source": [
    "### Create Labels\n",
    "With the index argument, you can name your own labels."
   ]
  },
  {
   "cell_type": "code",
   "execution_count": 5,
   "id": "2553b647",
   "metadata": {},
   "outputs": [
    {
     "name": "stdout",
     "output_type": "stream",
     "text": [
      "x    1\n",
      "y    7\n",
      "z    2\n",
      "dtype: int64\n"
     ]
    }
   ],
   "source": [
    "# Create your own labels:\n",
    "a = [1,7,2]\n",
    "myvar = pd.Series(a, index = ['x','y','z'])\n",
    "print(myvar)"
   ]
  },
  {
   "cell_type": "markdown",
   "id": "c6fc977a",
   "metadata": {},
   "source": [
    "When you have created labels, you can access an item by referring to the label."
   ]
  },
  {
   "cell_type": "code",
   "execution_count": 6,
   "id": "5bfb3d23",
   "metadata": {},
   "outputs": [
    {
     "name": "stdout",
     "output_type": "stream",
     "text": [
      "7\n"
     ]
    }
   ],
   "source": [
    "# Return the value of \"y\":\n",
    "print(myvar['y'])"
   ]
  },
  {
   "cell_type": "markdown",
   "id": "954dbfc7",
   "metadata": {},
   "source": [
    "### Key/Value Objects as Series\n",
    "You can also use a key/value object, like a dictionary, when creating a Series."
   ]
  },
  {
   "cell_type": "code",
   "execution_count": 7,
   "id": "16073085",
   "metadata": {},
   "outputs": [
    {
     "name": "stdout",
     "output_type": "stream",
     "text": [
      "day1    380\n",
      "day2    420\n",
      "day3    400\n",
      "dtype: int64\n"
     ]
    }
   ],
   "source": [
    "# Create a simple Pandas Series from a dictionary:\n",
    "\n",
    "dic = {'day1': 380, 'day2': 420, 'day3': 400}\n",
    "myvar = pd.Series(dic)\n",
    "print(myvar)"
   ]
  },
  {
   "cell_type": "markdown",
   "id": "f116adf8",
   "metadata": {},
   "source": [
    "Note: The keys of the dictionary become the labels.\n",
    "\n",
    "To select only some of the items in the dictionary, use the index argument and specify only the items you want to include in the Series."
   ]
  },
  {
   "cell_type": "code",
   "execution_count": 8,
   "id": "f5367a9e",
   "metadata": {},
   "outputs": [
    {
     "name": "stdout",
     "output_type": "stream",
     "text": [
      "day1    380\n",
      "day2    420\n",
      "dtype: int64\n"
     ]
    }
   ],
   "source": [
    "# Create a Series using only data from \"day1\" and \"day2\":\n",
    "\n",
    "myvar = pd.Series(dic, index = ['day1','day2'])\n",
    "print(myvar)"
   ]
  },
  {
   "cell_type": "markdown",
   "id": "16e8f2ac",
   "metadata": {},
   "source": [
    "### DataFrames\n",
    "Data sets in Pandas are usually multi-dimensional tables, called DataFrames.\n",
    "\n",
    "Series is like a column, a DataFrame is the whole table."
   ]
  },
  {
   "cell_type": "code",
   "execution_count": 9,
   "id": "82f48fe9",
   "metadata": {},
   "outputs": [
    {
     "name": "stdout",
     "output_type": "stream",
     "text": [
      "   calories  duration\n",
      "0       420        40\n",
      "1       380        38\n",
      "2       390        39\n"
     ]
    }
   ],
   "source": [
    "# Create a DataFrame from two Series:\n",
    "\n",
    "data = {\n",
    "    'calories': [420, 380, 390],\n",
    "    'duration': [40, 38, 39]\n",
    "}\n",
    "\n",
    "df = pd.DataFrame(data)\n",
    "print(df)"
   ]
  },
  {
   "cell_type": "markdown",
   "id": "e95119c2",
   "metadata": {},
   "source": [
    "You will learn about DataFrames in the next chapter."
   ]
  },
  {
   "cell_type": "code",
   "execution_count": null,
   "id": "49ea21eb",
   "metadata": {},
   "outputs": [],
   "source": []
  }
 ],
 "metadata": {
  "kernelspec": {
   "display_name": "Python 3 (ipykernel)",
   "language": "python",
   "name": "python3"
  },
  "language_info": {
   "codemirror_mode": {
    "name": "ipython",
    "version": 3
   },
   "file_extension": ".py",
   "mimetype": "text/x-python",
   "name": "python",
   "nbconvert_exporter": "python",
   "pygments_lexer": "ipython3",
   "version": "3.9.12"
  }
 },
 "nbformat": 4,
 "nbformat_minor": 5
}
