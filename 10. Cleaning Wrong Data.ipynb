{
 "cells": [
  {
   "cell_type": "markdown",
   "id": "92b84315",
   "metadata": {},
   "source": [
    "### Wrong Data\n",
    "\"Wrong data\" does not have to be \"empty cells\" or \"wrong format\", it can just be wrong, like if someone registered \"199\" instead of \"1.99\".\n",
    "\n",
    "Sometimes you can spot wrong data by looking at the data set, because you have an expectation of what it should be.\n",
    "\n",
    "If you take a look at our data set, you can see that in row 7, the duration is 450, but for all the other rows the duration is between 30 and 60.\n",
    "\n",
    "It doesn't have to be wrong, but taking in consideration that this is the data set of someone's workout sessions, we conclude with the fact that this person did not work out in 450 minutes."
   ]
  },
  {
   "cell_type": "markdown",
   "id": "9f9ab765",
   "metadata": {},
   "source": [
    "### Replacing Values\n",
    "One way to fix wrong values is to replace them with something else.\n",
    "\n",
    "In our example, it is most likely a typo, and the value should be \"45\" instead of \"450\", and we could just insert \"45\" in row 3:"
   ]
  },
  {
   "cell_type": "code",
   "execution_count": 1,
   "id": "9a8f1123",
   "metadata": {},
   "outputs": [
    {
     "name": "stdout",
     "output_type": "stream",
     "text": [
      "    Duration        Date  Pulse  Maxpulse  Calories\n",
      "0         60   12/1/2020    110       130     409.1\n",
      "1         60   12/2/2020    117       145     479.0\n",
      "2         60   12/3/2020    103       135     340.0\n",
      "3         45   12/4/2020    109       175     282.4\n",
      "4         45   12/5/2020    117       148     406.0\n",
      "5         60   12/6/2020    102       127     300.0\n",
      "6         60   12/7/2020    110       136     374.0\n",
      "7         45   12/8/2020    104       134     253.3\n",
      "8         30   12/9/2020    109       133     195.1\n",
      "9         60  12/10/2020     98       124     269.0\n",
      "10        60  12/11/2020    103       147     329.3\n",
      "11        60  12/12/2020    100       120     250.7\n",
      "12        60  12/12/2020    100       120     250.7\n",
      "13        60  12/13/2020    106       128     345.3\n",
      "14        60  12/14/2020    104       132     379.3\n",
      "15        60  12/15/2020     98       123     275.0\n",
      "16        60  12/16/2020     98       120     215.2\n",
      "17        60  12/17/2020    100       120     300.0\n",
      "18        45  12/18/2020     90       112       NaN\n",
      "19        60  12/19/2020    103       123     323.0\n",
      "20        45  12/20/2020     97       125     243.0\n",
      "21        60  12/21/2020    108       131     364.2\n",
      "22        45         NaN    100       119     282.0\n",
      "23        60  12/23/2020    130       101     300.0\n",
      "24        45  12/24/2020    105       132     246.0\n",
      "25        60  12/25/2020    102       126     334.5\n",
      "26        60    20201226    100       120     250.0\n",
      "27        60  12/27/2020     92       118     241.0\n",
      "28        60  12/28/2020    103       132       NaN\n",
      "29        60  12/29/2020    100       132     280.0\n",
      "30        60  12/30/2020    102       129     380.3\n",
      "31        60  12/31/2020     92       115     243.0\n"
     ]
    }
   ],
   "source": [
    "import pandas as pd\n",
    "df = pd.read_csv('data.csv')\n",
    "\n",
    "# Set \"Duration\" = 45 in row 3:\n",
    "df.loc[3,'Duration'] = 45\n",
    "print(df.to_string())"
   ]
  },
  {
   "cell_type": "markdown",
   "id": "50dd7470",
   "metadata": {},
   "source": [
    "For small data sets you might be able to replace the wrong data one by one, but not for big data sets.\n",
    "\n",
    "To replace wrong data for larger data sets you can create some rules, e.g. set some boundaries for legal values, and replace any values that are outside of the boundaries."
   ]
  },
  {
   "cell_type": "code",
   "execution_count": 2,
   "id": "854c2ad4",
   "metadata": {},
   "outputs": [
    {
     "name": "stdout",
     "output_type": "stream",
     "text": [
      "    Duration        Date  Pulse  Maxpulse  Calories\n",
      "0         50   12/1/2020    110       130     409.1\n",
      "1         50   12/2/2020    117       145     479.0\n",
      "2         50   12/3/2020    103       135     340.0\n",
      "3         45   12/4/2020    109       175     282.4\n",
      "4         45   12/5/2020    117       148     406.0\n",
      "5         50   12/6/2020    102       127     300.0\n",
      "6         50   12/7/2020    110       136     374.0\n",
      "7         45   12/8/2020    104       134     253.3\n",
      "8         30   12/9/2020    109       133     195.1\n",
      "9         50  12/10/2020     98       124     269.0\n",
      "10        50  12/11/2020    103       147     329.3\n",
      "11        50  12/12/2020    100       120     250.7\n",
      "12        50  12/12/2020    100       120     250.7\n",
      "13        50  12/13/2020    106       128     345.3\n",
      "14        50  12/14/2020    104       132     379.3\n",
      "15        50  12/15/2020     98       123     275.0\n",
      "16        50  12/16/2020     98       120     215.2\n",
      "17        50  12/17/2020    100       120     300.0\n",
      "18        45  12/18/2020     90       112       NaN\n",
      "19        50  12/19/2020    103       123     323.0\n",
      "20        45  12/20/2020     97       125     243.0\n",
      "21        50  12/21/2020    108       131     364.2\n",
      "22        45         NaN    100       119     282.0\n",
      "23        50  12/23/2020    130       101     300.0\n",
      "24        45  12/24/2020    105       132     246.0\n",
      "25        50  12/25/2020    102       126     334.5\n",
      "26        50    20201226    100       120     250.0\n",
      "27        50  12/27/2020     92       118     241.0\n",
      "28        50  12/28/2020    103       132       NaN\n",
      "29        50  12/29/2020    100       132     280.0\n",
      "30        50  12/30/2020    102       129     380.3\n",
      "31        50  12/31/2020     92       115     243.0\n"
     ]
    }
   ],
   "source": [
    "# Loop through all values in the \"Duration\" column.\n",
    "# If the value is higher than 50, set it to 50:\n",
    "for x in df.index:\n",
    "    if df.loc[x,'Duration'] > 50:\n",
    "        df.loc[x,'Duration'] = 50\n",
    "        \n",
    "print(df.to_string())"
   ]
  },
  {
   "cell_type": "markdown",
   "id": "3d5e2ce0",
   "metadata": {},
   "source": [
    "### Removing Rows\n",
    "Another way of handling wrong data is to remove the rows that contains wrong data.\n",
    "\n",
    "This way you do not have to find out what to replace them with, and there is a good chance you do not need them to do your analyses."
   ]
  },
  {
   "cell_type": "code",
   "execution_count": 3,
   "id": "472cc3c7",
   "metadata": {},
   "outputs": [
    {
     "name": "stdout",
     "output_type": "stream",
     "text": [
      "    Duration        Date  Pulse  Maxpulse  Calories\n",
      "0         50   12/1/2020    110       130     409.1\n",
      "1         50   12/2/2020    117       145     479.0\n",
      "2         50   12/3/2020    103       135     340.0\n",
      "3         45   12/4/2020    109       175     282.4\n",
      "4         45   12/5/2020    117       148     406.0\n",
      "5         50   12/6/2020    102       127     300.0\n",
      "6         50   12/7/2020    110       136     374.0\n",
      "7         45   12/8/2020    104       134     253.3\n",
      "8         30   12/9/2020    109       133     195.1\n",
      "9         50  12/10/2020     98       124     269.0\n",
      "10        50  12/11/2020    103       147     329.3\n",
      "11        50  12/12/2020    100       120     250.7\n",
      "12        50  12/12/2020    100       120     250.7\n",
      "13        50  12/13/2020    106       128     345.3\n",
      "14        50  12/14/2020    104       132     379.3\n",
      "15        50  12/15/2020     98       123     275.0\n",
      "16        50  12/16/2020     98       120     215.2\n",
      "17        50  12/17/2020    100       120     300.0\n",
      "18        45  12/18/2020     90       112       NaN\n",
      "19        50  12/19/2020    103       123     323.0\n",
      "20        45  12/20/2020     97       125     243.0\n",
      "21        50  12/21/2020    108       131     364.2\n",
      "22        45         NaN    100       119     282.0\n",
      "23        50  12/23/2020    130       101     300.0\n",
      "24        45  12/24/2020    105       132     246.0\n",
      "25        50  12/25/2020    102       126     334.5\n",
      "26        50    20201226    100       120     250.0\n",
      "27        50  12/27/2020     92       118     241.0\n",
      "28        50  12/28/2020    103       132       NaN\n",
      "29        50  12/29/2020    100       132     280.0\n",
      "30        50  12/30/2020    102       129     380.3\n",
      "31        50  12/31/2020     92       115     243.0\n"
     ]
    }
   ],
   "source": [
    "# Delete rows where \"Duration\" is higher than 120:\n",
    "\n",
    "for x in df.index:\n",
    "    if df.loc[x,'Duration'] > 120:\n",
    "        df.drop(x, inplace = True)\n",
    "print(df.to_string())"
   ]
  },
  {
   "cell_type": "code",
   "execution_count": null,
   "id": "865c87cb",
   "metadata": {},
   "outputs": [],
   "source": []
  }
 ],
 "metadata": {
  "kernelspec": {
   "display_name": "Python 3 (ipykernel)",
   "language": "python",
   "name": "python3"
  },
  "language_info": {
   "codemirror_mode": {
    "name": "ipython",
    "version": 3
   },
   "file_extension": ".py",
   "mimetype": "text/x-python",
   "name": "python",
   "nbconvert_exporter": "python",
   "pygments_lexer": "ipython3",
   "version": "3.9.12"
  }
 },
 "nbformat": 4,
 "nbformat_minor": 5
}
